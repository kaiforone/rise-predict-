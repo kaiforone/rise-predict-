{
 "cells": [
  {
   "cell_type": "markdown",
   "metadata": {},
   "source": [
    "# 基于随机森林实现港新股涨跌预测"
   ]
  },
  {
   "cell_type": "markdown",
   "metadata": {},
   "source": [
    "任务：基于历史港新股数据，对新股涨跌进行预测"
   ]
  },
  {
   "cell_type": "markdown",
   "metadata": {},
   "source": [
    "先看看港新股上市流程： 招股期（约5天）——  公布中签，同时下午暗盘（大约在招股期结束后7天） —— 上市（公布中签后的第一个工作日）。\n",
    "\n",
    "由此可见，涨跌预测可以在两个时间点进行。其一是招股期，可优化申购策略；其二是公布中签后，可优化卖出策略。"
   ]
  },
  {
   "cell_type": "markdown",
   "metadata": {},
   "source": [
    "# 1.数据读取"
   ]
  },
  {
   "cell_type": "code",
   "execution_count": 1,
   "metadata": {},
   "outputs": [
    {
     "name": "stderr",
     "output_type": "stream",
     "text": [
      "\n",
      "Bad key \"text.kerning_factor\" on line 4 in\n",
      "/Applications/anaconda3/lib/python3.6/site-packages/matplotlib/mpl-data/stylelib/_classic_test_patch.mplstyle.\n",
      "You probably need to get an updated matplotlibrc file from\n",
      "http://github.com/matplotlib/matplotlib/blob/master/matplotlibrc.template\n",
      "or from the matplotlib source distribution\n"
     ]
    }
   ],
   "source": [
    "### 导入相关库\n",
    "import numpy as np\n",
    "import matplotlib.pyplot as plt\n",
    "import warnings\n",
    "warnings.filterwarnings('ignore')"
   ]
  },
  {
   "cell_type": "code",
   "execution_count": 2,
   "metadata": {},
   "outputs": [
    {
     "data": {
      "text/html": [
       "<div>\n",
       "<style scoped>\n",
       "    .dataframe tbody tr th:only-of-type {\n",
       "        vertical-align: middle;\n",
       "    }\n",
       "\n",
       "    .dataframe tbody tr th {\n",
       "        vertical-align: top;\n",
       "    }\n",
       "\n",
       "    .dataframe thead th {\n",
       "        text-align: right;\n",
       "    }\n",
       "</style>\n",
       "<table border=\"1\" class=\"dataframe\">\n",
       "  <thead>\n",
       "    <tr style=\"text-align: right;\">\n",
       "      <th></th>\n",
       "      <th>code</th>\n",
       "      <th>one_count</th>\n",
       "      <th>value</th>\n",
       "      <th>total_count</th>\n",
       "      <th>HK_count</th>\n",
       "      <th>old_stock</th>\n",
       "      <th>complany</th>\n",
       "      <th>open_rise</th>\n",
       "      <th>close_rise</th>\n",
       "      <th>one_prob</th>\n",
       "      <th>must_count</th>\n",
       "      <th>issue_data</th>\n",
       "      <th>market</th>\n",
       "      <th>plate</th>\n",
       "      <th>one_price</th>\n",
       "      <th>over_multiple</th>\n",
       "      <th>price</th>\n",
       "      <th>low_price</th>\n",
       "      <th>high_price</th>\n",
       "      <th>greenshoe</th>\n",
       "      <th>ipo_sponsor</th>\n",
       "      <th>ipo_underwriter</th>\n",
       "    </tr>\n",
       "  </thead>\n",
       "  <tbody>\n",
       "    <tr>\n",
       "      <th>0</th>\n",
       "      <td>2129</td>\n",
       "      <td>5,000</td>\n",
       "      <td>650,000,000</td>\n",
       "      <td>312,500,000</td>\n",
       "      <td>156,250,000</td>\n",
       "      <td>0</td>\n",
       "      <td>LEGION CONSO</td>\n",
       "      <td>15.0</td>\n",
       "      <td>-12.5</td>\n",
       "      <td>1.09</td>\n",
       "      <td>100</td>\n",
       "      <td>2021-01-13</td>\n",
       "      <td>仓储物流</td>\n",
       "      <td>主板</td>\n",
       "      <td>2626.20</td>\n",
       "      <td>442.37</td>\n",
       "      <td>0.4</td>\n",
       "      <td>0.4</td>\n",
       "      <td>0.52</td>\n",
       "      <td>有</td>\n",
       "      <td>丰盛融资有限公司</td>\n",
       "      <td>首盛资本集团有限公司、千里硕证券有限公司、高钲证券有限公司、丰盛融资有限公司、交银国际证券有...</td>\n",
       "    </tr>\n",
       "    <tr>\n",
       "      <th>1</th>\n",
       "      <td>1855</td>\n",
       "      <td>2,000</td>\n",
       "      <td>665,500,000</td>\n",
       "      <td>68,750,000</td>\n",
       "      <td>20,626,000</td>\n",
       "      <td>0</td>\n",
       "      <td>中邦环境</td>\n",
       "      <td>-0.5</td>\n",
       "      <td>2.5</td>\n",
       "      <td>13.50</td>\n",
       "      <td>25</td>\n",
       "      <td>2021-01-06</td>\n",
       "      <td>建筑及装修</td>\n",
       "      <td>主板</td>\n",
       "      <td>4888.77</td>\n",
       "      <td>35.25</td>\n",
       "      <td>2.0</td>\n",
       "      <td>1.9</td>\n",
       "      <td>2.42</td>\n",
       "      <td>有</td>\n",
       "      <td>中国通海企业融资有限公司</td>\n",
       "      <td>中国通海证券有限公司、民银证券有限公司、申万宏源融资（香港）有限公司、西证（香港）证券经纪有...</td>\n",
       "    </tr>\n",
       "  </tbody>\n",
       "</table>\n",
       "</div>"
      ],
      "text/plain": [
       "   code one_count        value  total_count     HK_count  old_stock  \\\n",
       "0  2129     5,000  650,000,000  312,500,000  156,250,000          0   \n",
       "1  1855     2,000  665,500,000   68,750,000   20,626,000          0   \n",
       "\n",
       "       complany  open_rise  close_rise  one_prob must_count  issue_data  \\\n",
       "0  LEGION CONSO       15.0       -12.5      1.09        100  2021-01-13   \n",
       "1          中邦环境       -0.5         2.5     13.50         25  2021-01-06   \n",
       "\n",
       "  market plate  one_price  over_multiple  price  low_price  high_price  \\\n",
       "0   仓储物流    主板    2626.20         442.37    0.4        0.4        0.52   \n",
       "1  建筑及装修    主板    4888.77          35.25    2.0        1.9        2.42   \n",
       "\n",
       "  greenshoe   ipo_sponsor                                    ipo_underwriter  \n",
       "0         有      丰盛融资有限公司  首盛资本集团有限公司、千里硕证券有限公司、高钲证券有限公司、丰盛融资有限公司、交银国际证券有...  \n",
       "1         有  中国通海企业融资有限公司  中国通海证券有限公司、民银证券有限公司、申万宏源融资（香港）有限公司、西证（香港）证券经纪有...  "
      ]
     },
     "execution_count": 2,
     "metadata": {},
     "output_type": "execute_result"
    }
   ],
   "source": [
    "### 数据读取\n",
    "import pandas as pd\n",
    "# 利弗莫尔数据\n",
    "lm_data = pd.read_csv('../data/livermore.csv',header = None)\n",
    "lm_data.columns = ['code','complany','open_rise','close_rise','one_prob','must_count','issue_data','market',\n",
    "\t\t\t\t'plate','one_price','over_multiple','price','low_price','high_price',\n",
    "\t\t\t\t'greenshoe','ipo_sponsor','ipo_underwriter']\n",
    "# 阿思达克网数据\n",
    "as_data = pd.read_csv('../data/astocks.csv',header = None)\n",
    "as_data.columns = ['code', 'one_count', 'value', 'total_count', 'HK_count', 'old_stock']\n",
    "#合并数据\n",
    "data0 = pd.merge(as_data, lm_data, on='code')\n",
    "pd.set_option('display.max_columns', None)\n",
    "data0.head(2)"
   ]
  },
  {
   "cell_type": "markdown",
   "metadata": {},
   "source": [
    "## 数据介绍"
   ]
  },
  {
   "cell_type": "markdown",
   "metadata": {},
   "source": [
    "- code —— 股票代码\n",
    "- one_count —— 一手股数（和A股不同，港股一手股数非固定的100股，而是从几十到几千股不等）\n",
    "- value —— 市值\n",
    "- total_count —— 公开募集总股数（包括香港公开配售和国际配售两部分）\n",
    "- HK_count —— 香港公开配售总股数\n",
    "- old_stock —— 是否兜售旧股\n",
    "- complany —— 公司名称\n",
    "- open_rise —— 上市第一天开盘涨幅\n",
    "- close_rise —— 上市第一天收盘涨幅\n",
    "- one_prob —— 一手中签率\n",
    "- must_count —— 必中一手最低所需申请手数\n",
    "- issue_data —— 上市日期\n",
    "- market —— 所属行业\n",
    "- plate —— 上市板块（主板或者创业板）\n",
    "- one_price —— 一手金额\n",
    "- over_multiple —— 香港公开发售超购倍数\n",
    "- price —— 最终定价\n",
    "- low_price ——下限定价\n",
    "- high_price —— 上限定价\n",
    "- greenshoe —— 是否有绿鞋\n",
    "- ipo_sponsor —— 保荐人\n",
    "- ipo_underwriter —— 承销商"
   ]
  },
  {
   "cell_type": "markdown",
   "metadata": {},
   "source": [
    "# 2.数据预处理"
   ]
  },
  {
   "cell_type": "markdown",
   "metadata": {},
   "source": [
    "## 2.1 删除无关特征\n",
    "基于业务逻辑，去除对于涨跌预测没有意义的特征：\n",
    "\n",
    "code、one_count、complany、open_rise、must_count、issue_data、ipo_underwriter\n",
    "\n",
    "其中open_rise（开盘涨幅）的表现，更多的是一种市场情绪的宣泄。恐慌时则互相踩踏，暴跌；贪婪时则互相抬轿，暴涨。而close_rise(收盘涨幅）在情绪宣泄之后，更趋于理性，是其基本面好坏更大程度的体现。 \n",
    "\n",
    "故而选择close_rise作为本次预测的目标值。"
   ]
  },
  {
   "cell_type": "code",
   "execution_count": 3,
   "metadata": {},
   "outputs": [],
   "source": [
    "data = data0[['total_count','HK_count','old_stock','market','plate','one_price','over_multiple',\n",
    "           'price','low_price','high_price','greenshoe','ipo_sponsor','one_prob', 'close_rise']]"
   ]
  },
  {
   "cell_type": "markdown",
   "metadata": {},
   "source": [
    "## 2.2 缺失值处理"
   ]
  },
  {
   "cell_type": "markdown",
   "metadata": {},
   "source": [
    "观察发现，无缺失值，无需处理。"
   ]
  },
  {
   "cell_type": "code",
   "execution_count": 4,
   "metadata": {},
   "outputs": [
    {
     "data": {
      "text/plain": [
       "total_count      0\n",
       "HK_count         0\n",
       "old_stock        0\n",
       "market           0\n",
       "plate            0\n",
       "one_price        0\n",
       "over_multiple    0\n",
       "price            0\n",
       "low_price        0\n",
       "high_price       0\n",
       "greenshoe        0\n",
       "ipo_sponsor      0\n",
       "one_prob         0\n",
       "close_rise       0\n",
       "dtype: int64"
      ]
     },
     "execution_count": 4,
     "metadata": {},
     "output_type": "execute_result"
    }
   ],
   "source": [
    "data.isnull().sum()"
   ]
  },
  {
   "cell_type": "markdown",
   "metadata": {},
   "source": [
    "## 2.3 数据类型转换"
   ]
  },
  {
   "cell_type": "code",
   "execution_count": 5,
   "metadata": {},
   "outputs": [
    {
     "name": "stdout",
     "output_type": "stream",
     "text": [
      "<class 'pandas.core.frame.DataFrame'>\n",
      "Int64Index: 881 entries, 0 to 880\n",
      "Data columns (total 14 columns):\n",
      " #   Column         Non-Null Count  Dtype  \n",
      "---  ------         --------------  -----  \n",
      " 0   total_count    881 non-null    object \n",
      " 1   HK_count       881 non-null    object \n",
      " 2   old_stock      881 non-null    int64  \n",
      " 3   market         881 non-null    object \n",
      " 4   plate          881 non-null    object \n",
      " 5   one_price      881 non-null    float64\n",
      " 6   over_multiple  881 non-null    float64\n",
      " 7   price          881 non-null    float64\n",
      " 8   low_price      881 non-null    float64\n",
      " 9   high_price     881 non-null    float64\n",
      " 10  greenshoe      881 non-null    object \n",
      " 11  ipo_sponsor    881 non-null    object \n",
      " 12  one_prob       881 non-null    float64\n",
      " 13  close_rise     881 non-null    float64\n",
      "dtypes: float64(7), int64(1), object(6)\n",
      "memory usage: 103.2+ KB\n"
     ]
    }
   ],
   "source": [
    "### 查看数据类型\n",
    "data.info()"
   ]
  },
  {
   "cell_type": "code",
   "execution_count": 6,
   "metadata": {},
   "outputs": [],
   "source": [
    "### 将total_count、HK_count转换为float类型\n",
    "data['total_count'] = data['total_count'].apply(lambda x: float(x.replace(',','')))\n",
    "data['HK_count'] = data['HK_count'].apply(lambda x: float(x.replace(',','')))"
   ]
  },
  {
   "cell_type": "markdown",
   "metadata": {},
   "source": [
    "## 2.4 新增特征"
   ]
  },
  {
   "cell_type": "markdown",
   "metadata": {},
   "source": [
    "### 募资总金额"
   ]
  },
  {
   "cell_type": "markdown",
   "metadata": {},
   "source": [
    "通常情况下，募资总金额代表该支股票上市初期中可买卖易手的筹码，这里用“流通市值”来表示。流通市值较小时，相对而言不需要太大的资金量就可以让股价暴涨暴跌，在香港市场容易吸引到一些机构或游资炒作。而流通市值特别大的公司，相对而言其股价变动会偏稳一些。\n",
    "\n",
    "计算公式： circulate_value = total_count * price"
   ]
  },
  {
   "cell_type": "code",
   "execution_count": 7,
   "metadata": {},
   "outputs": [],
   "source": [
    "data['circulate_value'] = data['total_count'] * data['price']"
   ]
  },
  {
   "cell_type": "markdown",
   "metadata": {},
   "source": [
    "### 公开发售部分市值\n",
    "\n",
    "\n",
    "在新股上市时期，通常情况下，公开发售部分（即散户）是所有筹码中抛售的中坚力量，对股价会有一定的影响。当遭逢踩踏式抛售时，股价能否稳住就看需要多少资金来承接这些筹码，这里直接用公开发售部分的市值来进行量化。\n",
    "\n",
    "计算公式 ：open_value = HK_count * price\n"
   ]
  },
  {
   "cell_type": "code",
   "execution_count": 8,
   "metadata": {},
   "outputs": [],
   "source": [
    "### 公开发售部分市值\n",
    "data['open_value'] = data['HK_count'] * data['price']\n",
    "# 删除HK_count、total_count\n",
    "data.drop('HK_count', 1, inplace = True)\n",
    "data.drop('total_count', 1, inplace = True)"
   ]
  },
  {
   "cell_type": "markdown",
   "metadata": {},
   "source": [
    "### 定价方式"
   ]
  },
  {
   "cell_type": "markdown",
   "metadata": {},
   "source": [
    "定价方式一般有三种：上限定价、中间定价和下限定价。\n",
    "\n",
    "一般而言，采取下限定价，说明公司对于市场信心不足，同时也会打击市场对于公司的信心，从而影响其股价表现。\n",
    "\n",
    "用0，1，2三位数字分别表示上限定价、中间定价和下限定价。"
   ]
  },
  {
   "cell_type": "code",
   "execution_count": 9,
   "metadata": {},
   "outputs": [],
   "source": [
    "### 新增定价方式特征\n",
    "data['pricing_type'] = 1\n",
    "data.loc[data['price'] <= data['low_price'], 'pricing_type'] = 0\n",
    "data.loc[data['price'] >= data['high_price'], 'pricing_type'] = 2\n",
    "# 删除price、low_price、high_price\n",
    "data.drop('price', 1, inplace = True)\n",
    "data.drop('low_price', 1, inplace = True)\n",
    "data.drop('high_price', 1, inplace = True)"
   ]
  },
  {
   "cell_type": "code",
   "execution_count": 10,
   "metadata": {},
   "outputs": [
    {
     "data": {
      "text/html": [
       "<div>\n",
       "<style scoped>\n",
       "    .dataframe tbody tr th:only-of-type {\n",
       "        vertical-align: middle;\n",
       "    }\n",
       "\n",
       "    .dataframe tbody tr th {\n",
       "        vertical-align: top;\n",
       "    }\n",
       "\n",
       "    .dataframe thead th {\n",
       "        text-align: right;\n",
       "    }\n",
       "</style>\n",
       "<table border=\"1\" class=\"dataframe\">\n",
       "  <thead>\n",
       "    <tr style=\"text-align: right;\">\n",
       "      <th></th>\n",
       "      <th>old_stock</th>\n",
       "      <th>market</th>\n",
       "      <th>plate</th>\n",
       "      <th>one_price</th>\n",
       "      <th>over_multiple</th>\n",
       "      <th>greenshoe</th>\n",
       "      <th>ipo_sponsor</th>\n",
       "      <th>one_prob</th>\n",
       "      <th>close_rise</th>\n",
       "      <th>circulate_value</th>\n",
       "      <th>open_value</th>\n",
       "      <th>pricing_type</th>\n",
       "    </tr>\n",
       "  </thead>\n",
       "  <tbody>\n",
       "    <tr>\n",
       "      <th>0</th>\n",
       "      <td>0</td>\n",
       "      <td>仓储物流</td>\n",
       "      <td>主板</td>\n",
       "      <td>2626.20</td>\n",
       "      <td>442.37</td>\n",
       "      <td>有</td>\n",
       "      <td>丰盛融资有限公司</td>\n",
       "      <td>1.09</td>\n",
       "      <td>-12.5</td>\n",
       "      <td>125000000.0</td>\n",
       "      <td>62500000.0</td>\n",
       "      <td>0</td>\n",
       "    </tr>\n",
       "    <tr>\n",
       "      <th>1</th>\n",
       "      <td>0</td>\n",
       "      <td>建筑及装修</td>\n",
       "      <td>主板</td>\n",
       "      <td>4888.77</td>\n",
       "      <td>35.25</td>\n",
       "      <td>有</td>\n",
       "      <td>中国通海企业融资有限公司</td>\n",
       "      <td>13.50</td>\n",
       "      <td>2.5</td>\n",
       "      <td>137500000.0</td>\n",
       "      <td>41252000.0</td>\n",
       "      <td>1</td>\n",
       "    </tr>\n",
       "  </tbody>\n",
       "</table>\n",
       "</div>"
      ],
      "text/plain": [
       "   old_stock market plate  one_price  over_multiple greenshoe   ipo_sponsor  \\\n",
       "0          0   仓储物流    主板    2626.20         442.37         有      丰盛融资有限公司   \n",
       "1          0  建筑及装修    主板    4888.77          35.25         有  中国通海企业融资有限公司   \n",
       "\n",
       "   one_prob  close_rise  circulate_value  open_value  pricing_type  \n",
       "0      1.09       -12.5      125000000.0  62500000.0             0  \n",
       "1     13.50         2.5      137500000.0  41252000.0             1  "
      ]
     },
     "execution_count": 10,
     "metadata": {},
     "output_type": "execute_result"
    }
   ],
   "source": [
    "data.head(2)"
   ]
  },
  {
   "cell_type": "markdown",
   "metadata": {},
   "source": [
    "## 2.5 异常值处理"
   ]
  },
  {
   "cell_type": "code",
   "execution_count": 11,
   "metadata": {},
   "outputs": [
    {
     "data": {
      "image/png": "[encoded data removed]",
      "text/plain": [
       "<matplotlib.figure.Figure at 0x7fa8e6866780>"
      ]
     },
     "metadata": {},
     "output_type": "display_data"
    }
   ],
   "source": [
    "# 箱型图观察异常值情况\n",
    "import seaborn as sns\n",
    "\n",
    "#分析百分比特征\n",
    "fig = plt.figure(figsize=(15,10)) # 建立图像\n",
    "\n",
    "#one_price\n",
    "ax1 = fig.add_subplot(411)\n",
    "list1 = list(data['one_price'])\n",
    "ax1.boxplot(list1,vert=False,showmeans=True,flierprops = {\"marker\":\"o\",\"markerfacecolor\":\"steelblue\"})\n",
    "ax1.set_title('one_price')\n",
    "\n",
    "#over_multiple\n",
    "ax1 = fig.add_subplot(412)\n",
    "list2 = list(data['over_multiple'])\n",
    "ax1.boxplot(list2,vert=False,showmeans=True,flierprops = {\"marker\":\"o\",\"markerfacecolor\":\"steelblue\"})\n",
    "ax1.set_title('over_multiple')\n",
    "\n",
    "#circulate_value\n",
    "ax1 = fig.add_subplot(413)\n",
    "list3 = list(data['circulate_value'])\n",
    "ax1.boxplot(list3,vert=False,showmeans=True,flierprops = {\"marker\":\"o\",\"markerfacecolor\":\"steelblue\"})\n",
    "ax1.set_title('circulate_value')\n",
    "\n",
    "#one_prob\n",
    "ax1 = fig.add_subplot(414)\n",
    "list3 = list(data['one_prob'])\n",
    "ax1.boxplot(list3,vert=False,showmeans=True,flierprops = {\"marker\":\"o\",\"markerfacecolor\":\"steelblue\"})\n",
    "ax1.set_title('one_prob')\n",
    "\n",
    "plt.tight_layout(pad=1.5)\n",
    "plt.show()"
   ]
  },
  {
   "cell_type": "markdown",
   "metadata": {},
   "source": [
    "由图可知，在数值类特征中，除了one_prob，其它三列：one_price、over_multiple、circulate_value都存在不少的离群点。\n",
    "\n",
    "但这些离群点都是业务中真实存在的值，并且最终发现，即便处理过后，随机森林的预测效果仍旧最优。而随机森林对于异常值的敏感度相对而言不高，所以这里不做处理。"
   ]
  },
  {
   "cell_type": "markdown",
   "metadata": {},
   "source": [
    "# 3. 特征工程"
   ]
  },
  {
   "cell_type": "markdown",
   "metadata": {},
   "source": [
    "## 3.1 类别特征处理"
   ]
  },
  {
   "cell_type": "markdown",
   "metadata": {},
   "source": [
    "### market、plate\n",
    "直接用标签进行编码，同时保存相应的标签编码器"
   ]
  },
  {
   "cell_type": "code",
   "execution_count": 12,
   "metadata": {},
   "outputs": [],
   "source": [
    "import sklearn.preprocessing as sp\n",
    "\n",
    "ibe_market = sp.LabelEncoder()\n",
    "data['market'] = ibe_market.fit_transform(data['market'])\n",
    "ibe_plate = sp.LabelEncoder()\n",
    "data['plate'] = ibe_plate.fit_transform(data['plate'])"
   ]
  },
  {
   "cell_type": "markdown",
   "metadata": {},
   "source": [
    "### greenshoe \n",
    "观察发现存在一个异常类别。将'无'用0标识，代表无绿鞋；其它的都标记为1，代表有绿鞋。"
   ]
  },
  {
   "cell_type": "code",
   "execution_count": 13,
   "metadata": {},
   "outputs": [
    {
     "data": {
      "text/plain": [
       "1    660\n",
       "0    221\n",
       "Name: greenshoe, dtype: int64"
      ]
     },
     "execution_count": 13,
     "metadata": {},
     "output_type": "execute_result"
    }
   ],
   "source": [
    "data.loc[data['greenshoe'] != '无', 'greenshoe'] = 1\n",
    "data.loc[data['greenshoe'] == '无', 'greenshoe'] = 0\n",
    "data['greenshoe'].value_counts()"
   ]
  },
  {
   "cell_type": "markdown",
   "metadata": {},
   "source": [
    "### ipo_sponsor\n",
    "观察发现，其Length为324。为方便分类计算，将具有多个保荐人的，取排在第一位的主保荐人"
   ]
  },
  {
   "cell_type": "code",
   "execution_count": 14,
   "metadata": {},
   "outputs": [
    {
     "data": {
      "text/plain": [
       "国泰君安融资有限公司                                                                                            29\n",
       "丰盛融资有限公司                                                                                              23\n",
       "创升融资有限公司                                                                                              21\n",
       "汇富融资有限公司                                                                                              20\n",
       "德健融资有限公司                                                                                              18\n",
       "                                                                                                      ..\n",
       "Merrill Lynch Far East Limited、花旗环球金融亚洲有限公司                                                            1\n",
       "Merrill Lynch Far East Limited、海通国际资本有限公司、中信里昂证券资本市场有限公司、中国国际金融香港证券有限公司                                1\n",
       "高盛（亚洲）有限责任公司、海通国际资本有限公司                                                                                1\n",
       "J.P. Morgan Securities (Far East) Limited、Merrill Lynch Far East Limited、海通国际资本有限公司、中国国际金融香港证券有限公司     1\n",
       "高盛（亚洲）有限责任公司、UBS Securities Hong Kong Limited                                                          1\n",
       "Name: ipo_sponsor, Length: 324, dtype: int64"
      ]
     },
     "execution_count": 14,
     "metadata": {},
     "output_type": "execute_result"
    }
   ],
   "source": [
    "# 观察ipo_sponsor的取值情况\n",
    "data['ipo_sponsor'].value_counts()"
   ]
  },
  {
   "cell_type": "code",
   "execution_count": 15,
   "metadata": {},
   "outputs": [
    {
     "data": {
      "text/plain": [
       "中国国际金融香港证券有限公司     45\n",
       "摩根士丹利亚洲有限公司        39\n",
       "高盛（亚洲）有限责任公司       31\n",
       "国泰君安融资有限公司         30\n",
       "建银国际金融有限公司         25\n",
       "                   ..\n",
       "银河—联昌证券（香港）有限公司     1\n",
       "西证（香港）证券经纪有限公司      1\n",
       "中国泛海企业融资有限公司        1\n",
       "千里硕融资有限公司           1\n",
       "创越融资有限公司            1\n",
       "Name: ipo_sponsor, Length: 113, dtype: int64"
      ]
     },
     "execution_count": 15,
     "metadata": {},
     "output_type": "execute_result"
    }
   ],
   "source": [
    "# 具备多个保荐人的，只取排在第一位的主保荐人\n",
    "data['ipo_sponsor'] = data['ipo_sponsor'].apply(lambda x:x.split('、')[0].strip())\n",
    "data['ipo_sponsor'].value_counts()"
   ]
  },
  {
   "cell_type": "code",
   "execution_count": 16,
   "metadata": {},
   "outputs": [],
   "source": [
    "# 标签编码\n",
    "ibe_ipo_sponsor = sp.LabelEncoder()\n",
    "data['ipo_sponsor'] = ibe_ipo_sponsor.fit_transform(data['ipo_sponsor'])"
   ]
  },
  {
   "cell_type": "markdown",
   "metadata": {},
   "source": [
    "### close_rise —— 人工分类"
   ]
  },
  {
   "cell_type": "code",
   "execution_count": 17,
   "metadata": {},
   "outputs": [
    {
     "data": {
      "text/plain": [
       "1.0    520\n",
       "0.0    361\n",
       "Name: close_rise, dtype: int64"
      ]
     },
     "execution_count": 17,
     "metadata": {},
     "output_type": "execute_result"
    }
   ],
   "source": [
    "# 用0，1分别代表跌、涨；close_rise大于0时为涨，否则为跌。\n",
    "data.loc[data['close_rise'] > 0 , 'close_rise'] = 1\n",
    "data.loc[data['close_rise'] <= 0 , 'close_rise'] = 0\n",
    "data['close_rise'].value_counts()"
   ]
  },
  {
   "cell_type": "markdown",
   "metadata": {},
   "source": [
    "## 3.2 数值特征标准化"
   ]
  },
  {
   "cell_type": "code",
   "execution_count": 18,
   "metadata": {},
   "outputs": [
    {
     "data": {
      "text/html": [
       "<div>\n",
       "<style scoped>\n",
       "    .dataframe tbody tr th:only-of-type {\n",
       "        vertical-align: middle;\n",
       "    }\n",
       "\n",
       "    .dataframe tbody tr th {\n",
       "        vertical-align: top;\n",
       "    }\n",
       "\n",
       "    .dataframe thead th {\n",
       "        text-align: right;\n",
       "    }\n",
       "</style>\n",
       "<table border=\"1\" class=\"dataframe\">\n",
       "  <thead>\n",
       "    <tr style=\"text-align: right;\">\n",
       "      <th></th>\n",
       "      <th>old_stock</th>\n",
       "      <th>market</th>\n",
       "      <th>plate</th>\n",
       "      <th>one_price</th>\n",
       "      <th>over_multiple</th>\n",
       "      <th>greenshoe</th>\n",
       "      <th>ipo_sponsor</th>\n",
       "      <th>one_prob</th>\n",
       "      <th>close_rise</th>\n",
       "      <th>circulate_value</th>\n",
       "      <th>open_value</th>\n",
       "      <th>pricing_type</th>\n",
       "    </tr>\n",
       "  </thead>\n",
       "  <tbody>\n",
       "    <tr>\n",
       "      <th>0</th>\n",
       "      <td>0</td>\n",
       "      <td>1</td>\n",
       "      <td>0</td>\n",
       "      <td>-0.539240</td>\n",
       "      <td>0.684073</td>\n",
       "      <td>1</td>\n",
       "      <td>28</td>\n",
       "      <td>-1.588754</td>\n",
       "      <td>0.0</td>\n",
       "      <td>-0.303116</td>\n",
       "      <td>-0.329560</td>\n",
       "      <td>0</td>\n",
       "    </tr>\n",
       "    <tr>\n",
       "      <th>1</th>\n",
       "      <td>0</td>\n",
       "      <td>27</td>\n",
       "      <td>0</td>\n",
       "      <td>0.061259</td>\n",
       "      <td>-0.278810</td>\n",
       "      <td>1</td>\n",
       "      <td>21</td>\n",
       "      <td>-1.250766</td>\n",
       "      <td>1.0</td>\n",
       "      <td>-0.301116</td>\n",
       "      <td>-0.361065</td>\n",
       "      <td>1</td>\n",
       "    </tr>\n",
       "    <tr>\n",
       "      <th>2</th>\n",
       "      <td>0</td>\n",
       "      <td>67</td>\n",
       "      <td>0</td>\n",
       "      <td>-0.054015</td>\n",
       "      <td>-0.292031</td>\n",
       "      <td>1</td>\n",
       "      <td>10</td>\n",
       "      <td>-1.346089</td>\n",
       "      <td>1.0</td>\n",
       "      <td>-0.294794</td>\n",
       "      <td>-0.343497</td>\n",
       "      <td>1</td>\n",
       "    </tr>\n",
       "    <tr>\n",
       "      <th>3</th>\n",
       "      <td>0</td>\n",
       "      <td>1</td>\n",
       "      <td>1</td>\n",
       "      <td>0.023731</td>\n",
       "      <td>-0.279638</td>\n",
       "      <td>0</td>\n",
       "      <td>69</td>\n",
       "      <td>-1.202832</td>\n",
       "      <td>1.0</td>\n",
       "      <td>-0.314240</td>\n",
       "      <td>-0.397543</td>\n",
       "      <td>0</td>\n",
       "    </tr>\n",
       "    <tr>\n",
       "      <th>4</th>\n",
       "      <td>0</td>\n",
       "      <td>60</td>\n",
       "      <td>0</td>\n",
       "      <td>-0.566046</td>\n",
       "      <td>-0.285031</td>\n",
       "      <td>1</td>\n",
       "      <td>71</td>\n",
       "      <td>-1.346089</td>\n",
       "      <td>1.0</td>\n",
       "      <td>-0.302956</td>\n",
       "      <td>-0.384865</td>\n",
       "      <td>0</td>\n",
       "    </tr>\n",
       "  </tbody>\n",
       "</table>\n",
       "</div>"
      ],
      "text/plain": [
       "   old_stock  market  plate  one_price  over_multiple greenshoe  ipo_sponsor  \\\n",
       "0          0       1      0  -0.539240       0.684073         1           28   \n",
       "1          0      27      0   0.061259      -0.278810         1           21   \n",
       "2          0      67      0  -0.054015      -0.292031         1           10   \n",
       "3          0       1      1   0.023731      -0.279638         0           69   \n",
       "4          0      60      0  -0.566046      -0.285031         1           71   \n",
       "\n",
       "   one_prob  close_rise  circulate_value  open_value  pricing_type  \n",
       "0 -1.588754         0.0        -0.303116   -0.329560             0  \n",
       "1 -1.250766         1.0        -0.301116   -0.361065             1  \n",
       "2 -1.346089         1.0        -0.294794   -0.343497             1  \n",
       "3 -1.202832         1.0        -0.314240   -0.397543             0  \n",
       "4 -1.346089         1.0        -0.302956   -0.384865             0  "
      ]
     },
     "execution_count": 18,
     "metadata": {},
     "output_type": "execute_result"
    }
   ],
   "source": [
    "### 均值移除\n",
    "data[['one_price','over_multiple','one_prob','circulate_value','open_value']] = sp.scale(\n",
    "            data[['one_price','over_multiple','one_prob','circulate_value','open_value']]\n",
    ")\n",
    "data.head()"
   ]
  },
  {
   "cell_type": "markdown",
   "metadata": {},
   "source": [
    "## 3.3 数值特征选择"
   ]
  },
  {
   "cell_type": "code",
   "execution_count": 19,
   "metadata": {},
   "outputs": [
    {
     "data": {
      "image/png": "[encoded data removed]",
      "text/plain": [
       "<matplotlib.figure.Figure at 0x7fa8e5972b38>"
      ]
     },
     "metadata": {},
     "output_type": "display_data"
    }
   ],
   "source": [
    "import seaborn as sns\n",
    "nu_fea = ['one_price','over_multiple','one_prob','circulate_value','open_value']  # 选择连续型数值特征计算相关系数\n",
    "pearson_mat = data[nu_fea].corr(method='spearman')  # 计算皮尔逊相关系数矩阵\n",
    "\n",
    "# 用热度图表示相关系数矩阵\n",
    "plt.figure(figsize=(10,10))\n",
    "sns.heatmap(pearson_mat,square=True, annot=True, cmap='YlGnBu')\n",
    "plt.show()"
   ]
  },
  {
   "cell_type": "markdown",
   "metadata": {},
   "source": [
    "观察发现，open_value 和 circulate_value相关度达到0.79， 选择将 open_value 删除"
   ]
  },
  {
   "cell_type": "code",
   "execution_count": 20,
   "metadata": {},
   "outputs": [],
   "source": [
    "data.drop('open_value',1,inplace = True)"
   ]
  },
  {
   "cell_type": "markdown",
   "metadata": {},
   "source": [
    "# 4. 类别不平衡处理"
   ]
  },
  {
   "cell_type": "code",
   "execution_count": 21,
   "metadata": {},
   "outputs": [
    {
     "data": {
      "text/plain": [
       "1.0    520\n",
       "0.0    361\n",
       "Name: close_rise, dtype: int64"
      ]
     },
     "execution_count": 21,
     "metadata": {},
     "output_type": "execute_result"
    }
   ],
   "source": [
    "# 观察正负样本分布\n",
    "data['close_rise'].value_counts()"
   ]
  },
  {
   "cell_type": "markdown",
   "metadata": {},
   "source": [
    "正负样本比例为 1.44:1 ，差别不是特别大，暂时不做处理"
   ]
  },
  {
   "cell_type": "markdown",
   "metadata": {},
   "source": [
    "# 5.招股期涨跌预测"
   ]
  },
  {
   "cell_type": "markdown",
   "metadata": {},
   "source": [
    "招股期间，涨跌预测太重要了，它直接关系到这只股票是否要参与。\n",
    "\n",
    "而这个期间，one_prob（一手中签率）、pricing_type（定价方式）这两个数据我们无法得到。它们只有在分配书公布之后才能获取。"
   ]
  },
  {
   "cell_type": "code",
   "execution_count": 22,
   "metadata": {},
   "outputs": [],
   "source": [
    "# ipo_data为招股期间的数据\n",
    "ipo_data = data.drop(['one_prob', 'pricing_type'],1)"
   ]
  },
  {
   "cell_type": "markdown",
   "metadata": {},
   "source": [
    "## 5.1 交叉验证"
   ]
  },
  {
   "cell_type": "markdown",
   "metadata": {},
   "source": [
    "同样考虑到样本数较少的问题，本案例采用K折交叉验证的方式进行预测，提高数据利用率；此外，采用逻辑回归、SVM、随机森林、AdaBoost等算法构建模型，从中选择预测效果较好的模型进行最终的预测。\n",
    "\n",
    "在新股涨跌预测中，很明显，更应该关注的指标为查准率，即每一个类别中，预测正确的样本数比上预测出来的样本数。\n",
    "\n",
    "比如：模型预测了10只股票会涨，而真实上涨的有7只，代表查准率为70%。很明显，查准率越高，代表着新股获利的概率越高。所以它是整个新股涨跌预测中最重要的指标。"
   ]
  },
  {
   "cell_type": "code",
   "execution_count": 23,
   "metadata": {},
   "outputs": [
    {
     "name": "stderr",
     "output_type": "stream",
     "text": [
      "/Applications/anaconda3/lib/python3.6/site-packages/sklearn/ensemble/weight_boosting.py:29: DeprecationWarning: numpy.core.umath_tests is an internal NumPy module and should not be imported. It will be removed in a future NumPy release.\n",
      "  from numpy.core.umath_tests import inner1d\n"
     ]
    }
   ],
   "source": [
    "import sklearn.model_selection as ms\n",
    "import sklearn.ensemble as se\n",
    "import sklearn.metrics as sm\n",
    "\n",
    "from sklearn.linear_model import LogisticRegression as LR    # 逻辑回归\n",
    "from sklearn.svm import SVC    # SVM\n",
    "from sklearn.ensemble import RandomForestClassifier as RF    # 随机森林\n",
    "from sklearn.ensemble import AdaBoostClassifier as Adaboost    # AdaBoost\n",
    "\n",
    "### 整理数据集\n",
    "x = ipo_data.drop('close_rise',1)\n",
    "y = ipo_data['close_rise']\n",
    "#数据集划分\n",
    "train_x, test_x, train_y, test_y = ms.train_test_split(\n",
    "        x, y, test_size=0.2, random_state=0)\n",
    "# 交叉验证\n",
    "model_list = [LR, SVC, RF, Adaboost]\n",
    "pred_list = []\n",
    "for m in model_list:\n",
    "    # 获取预测结果\n",
    "    pred = ms.cross_val_predict(m(), train_x, train_y, cv=5)\n",
    "    pred_list.append(pred)"
   ]
  },
  {
   "cell_type": "markdown",
   "metadata": {},
   "source": [
    "### 交叉验证各指标得分"
   ]
  },
  {
   "cell_type": "code",
   "execution_count": 24,
   "metadata": {},
   "outputs": [
    {
     "data": {
      "text/html": [
       "<div>\n",
       "<style scoped>\n",
       "    .dataframe tbody tr th:only-of-type {\n",
       "        vertical-align: middle;\n",
       "    }\n",
       "\n",
       "    .dataframe tbody tr th {\n",
       "        vertical-align: top;\n",
       "    }\n",
       "\n",
       "    .dataframe thead th {\n",
       "        text-align: right;\n",
       "    }\n",
       "</style>\n",
       "<table border=\"1\" class=\"dataframe\">\n",
       "  <thead>\n",
       "    <tr style=\"text-align: right;\">\n",
       "      <th></th>\n",
       "      <th>LR</th>\n",
       "      <th>SVC</th>\n",
       "      <th>RandomForest</th>\n",
       "      <th>AdaBoost</th>\n",
       "    </tr>\n",
       "  </thead>\n",
       "  <tbody>\n",
       "    <tr>\n",
       "      <th>Recall</th>\n",
       "      <td>0.922170</td>\n",
       "      <td>0.825472</td>\n",
       "      <td>0.669811</td>\n",
       "      <td>0.738208</td>\n",
       "    </tr>\n",
       "    <tr>\n",
       "      <th>Precision</th>\n",
       "      <td>0.611894</td>\n",
       "      <td>0.618375</td>\n",
       "      <td>0.674584</td>\n",
       "      <td>0.631048</td>\n",
       "    </tr>\n",
       "    <tr>\n",
       "      <th>F1-score</th>\n",
       "      <td>0.735654</td>\n",
       "      <td>0.707071</td>\n",
       "      <td>0.672189</td>\n",
       "      <td>0.680435</td>\n",
       "    </tr>\n",
       "  </tbody>\n",
       "</table>\n",
       "</div>"
      ],
      "text/plain": [
       "                 LR       SVC  RandomForest  AdaBoost\n",
       "Recall     0.922170  0.825472      0.669811  0.738208\n",
       "Precision  0.611894  0.618375      0.674584  0.631048\n",
       "F1-score   0.735654  0.707071      0.672189  0.680435"
      ]
     },
     "execution_count": 24,
     "metadata": {},
     "output_type": "execute_result"
    }
   ],
   "source": [
    "from sklearn.metrics import precision_score, recall_score, f1_score    # 导入精确率、召回率、F1值等评价指标\n",
    "\n",
    "scoreDf = pd.DataFrame(columns=['LR', 'SVC', 'RandomForest', 'AdaBoost'])\n",
    "for i in range(4):\n",
    "    r = recall_score(train_y, pred_list[i])\n",
    "    p = precision_score(train_y, pred_list[i])\n",
    "    f1 = f1_score(train_y, pred_list[i])\n",
    "    scoreDf.iloc[:, i] = pd.Series([r, p, f1])\n",
    "\n",
    "scoreDf.index = ['Recall', 'Precision', 'F1-score']\n",
    "scoreDf"
   ]
  },
  {
   "cell_type": "markdown",
   "metadata": {},
   "source": [
    "由上表可知，随机森林模型的查准率得分最高，可以用RandomForestClassifier单模型进行预测"
   ]
  },
  {
   "cell_type": "markdown",
   "metadata": {},
   "source": [
    "## 5.2 网格搜素"
   ]
  },
  {
   "cell_type": "code",
   "execution_count": 34,
   "metadata": {},
   "outputs": [
    {
     "data": {
      "text/plain": [
       "GridSearchCV(cv=5, error_score='raise',\n",
       "       estimator=RandomForestClassifier(bootstrap=True, class_weight=None, criterion='gini',\n",
       "            max_depth=None, max_features='auto', max_leaf_nodes=None,\n",
       "            min_impurity_decrease=0.0, min_impurity_split=None,\n",
       "            min_samples_leaf=1, min_samples_split=2,\n",
       "            min_weight_fraction_leaf=0.0, n_estimators=10, n_jobs=1,\n",
       "            oob_score=False, random_state=2, verbose=0, warm_start=False),\n",
       "       fit_params=None, iid=True, n_jobs=1,\n",
       "       param_grid={'n_estimators': array([ 10,  20,  30,  40,  50,  60,  70,  80,  90, 100, 110, 120, 130,\n",
       "       140, 150, 160, 170, 180, 190, 200]), 'max_features': array([0.1, 0.2, 0.3, 0.4, 0.5, 0.6, 0.7, 0.8, 0.9]), 'max_depth': array([ 3,  4,  5,  6,  7,  8,  9, 10]), 'bootstrap': [True, False]},\n",
       "       pre_dispatch='2*n_jobs', refit=True, return_train_score=True,\n",
       "       scoring=None, verbose=0)"
      ]
     },
     "execution_count": 34,
     "metadata": {},
     "output_type": "execute_result"
    }
   ],
   "source": [
    "from sklearn.model_selection import GridSearchCV\n",
    "clf = RF(random_state=2)\n",
    "param_grid = {\n",
    "    'n_estimators':np.arange(10,201,10),\n",
    "    'max_features':np.arange(0.1,1,0.1),\n",
    "    'max_depth':np.arange(3,11,1),\n",
    "    'bootstrap':[True, False],\n",
    "}\n",
    "grid1 = GridSearchCV(clf, param_grid = param_grid, cv = 5)\n",
    "grid1.fit(train_x, train_y)"
   ]
  },
  {
   "cell_type": "code",
   "execution_count": 35,
   "metadata": {},
   "outputs": [
    {
     "name": "stdout",
     "output_type": "stream",
     "text": [
      "{'bootstrap': False, 'max_depth': 8, 'max_features': 0.30000000000000004, 'n_estimators': 40}\n",
      "0.6491477272727273\n"
     ]
    }
   ],
   "source": [
    "# 获取最优参数、最优得分\n",
    "print(grid1.best_params_)\n",
    "print(grid1.best_score_)"
   ]
  },
  {
   "cell_type": "markdown",
   "metadata": {},
   "source": [
    "## 5.3 模型评估\n"
   ]
  },
  {
   "cell_type": "code",
   "execution_count": 41,
   "metadata": {},
   "outputs": [
    {
     "name": "stdout",
     "output_type": "stream",
     "text": [
      "[[34 47]\n",
      " [28 68]]\n",
      "             precision    recall  f1-score   support\n",
      "\n",
      "        0.0       0.55      0.42      0.48        81\n",
      "        1.0       0.59      0.71      0.64        96\n",
      "\n",
      "avg / total       0.57      0.58      0.57       177\n",
      "\n"
     ]
    }
   ],
   "source": [
    "model = RF(max_depth=8, n_estimators=40,bootstrap=False, max_features=0.3, random_state=2)\n",
    "model.fit(train_x, train_y)\n",
    "pred_test_y = model.predict(test_x)\n",
    "\n",
    "# 混淆矩阵、分类报告\n",
    "print(sm.confusion_matrix(test_y, pred_test_y))\n",
    "print(sm.classification_report(test_y, pred_test_y))"
   ]
  },
  {
   "cell_type": "code",
   "execution_count": 37,
   "metadata": {},
   "outputs": [
    {
     "data": {
      "image/png": "[encoded data removed]",
      "text/plain": [
       "<matplotlib.figure.Figure at 0x7fa8e8474550>"
      ]
     },
     "metadata": {},
     "output_type": "display_data"
    },
    {
     "data": {
      "text/html": [
       "<div>\n",
       "<style scoped>\n",
       "    .dataframe tbody tr th:only-of-type {\n",
       "        vertical-align: middle;\n",
       "    }\n",
       "\n",
       "    .dataframe tbody tr th {\n",
       "        vertical-align: top;\n",
       "    }\n",
       "\n",
       "    .dataframe thead th {\n",
       "        text-align: right;\n",
       "    }\n",
       "</style>\n",
       "<table border=\"1\" class=\"dataframe\">\n",
       "  <thead>\n",
       "    <tr style=\"text-align: right;\">\n",
       "      <th></th>\n",
       "      <th>importance</th>\n",
       "    </tr>\n",
       "  </thead>\n",
       "  <tbody>\n",
       "    <tr>\n",
       "      <th>greenshoe</th>\n",
       "      <td>0.015180</td>\n",
       "    </tr>\n",
       "    <tr>\n",
       "      <th>plate</th>\n",
       "      <td>0.021735</td>\n",
       "    </tr>\n",
       "    <tr>\n",
       "      <th>old_stock</th>\n",
       "      <td>0.033256</td>\n",
       "    </tr>\n",
       "    <tr>\n",
       "      <th>ipo_sponsor</th>\n",
       "      <td>0.118543</td>\n",
       "    </tr>\n",
       "    <tr>\n",
       "      <th>market</th>\n",
       "      <td>0.137565</td>\n",
       "    </tr>\n",
       "    <tr>\n",
       "      <th>one_price</th>\n",
       "      <td>0.164526</td>\n",
       "    </tr>\n",
       "    <tr>\n",
       "      <th>circulate_value</th>\n",
       "      <td>0.217271</td>\n",
       "    </tr>\n",
       "    <tr>\n",
       "      <th>over_multiple</th>\n",
       "      <td>0.291925</td>\n",
       "    </tr>\n",
       "  </tbody>\n",
       "</table>\n",
       "</div>"
      ],
      "text/plain": [
       "                 importance\n",
       "greenshoe          0.015180\n",
       "plate              0.021735\n",
       "old_stock          0.033256\n",
       "ipo_sponsor        0.118543\n",
       "market             0.137565\n",
       "one_price          0.164526\n",
       "circulate_value    0.217271\n",
       "over_multiple      0.291925"
      ]
     },
     "execution_count": 37,
     "metadata": {},
     "output_type": "execute_result"
    }
   ],
   "source": [
    "### 特征重要性\n",
    "feature_importances = pd.DataFrame(model.feature_importances_,\n",
    "                                  index = ipo_data.columns.drop(['close_rise']),\n",
    "                                  columns = ['importance']).sort_values('importance')\n",
    "# 可视化\n",
    "feature_importances.plot(figsize=(10,5))\n",
    "plt.show()\n",
    "feature_importances"
   ]
  },
  {
   "cell_type": "markdown",
   "metadata": {},
   "source": [
    "## 5.4 预测概率值"
   ]
  },
  {
   "cell_type": "markdown",
   "metadata": {},
   "source": [
    "模型的预测效果一般。为提高胜率，可以预测上涨的概率，根据个人风险偏好设定阀值选择是否参与"
   ]
  },
  {
   "cell_type": "code",
   "execution_count": 39,
   "metadata": {},
   "outputs": [
    {
     "data": {
      "text/html": [
       "<div>\n",
       "<style scoped>\n",
       "    .dataframe tbody tr th:only-of-type {\n",
       "        vertical-align: middle;\n",
       "    }\n",
       "\n",
       "    .dataframe tbody tr th {\n",
       "        vertical-align: top;\n",
       "    }\n",
       "\n",
       "    .dataframe thead th {\n",
       "        text-align: right;\n",
       "    }\n",
       "</style>\n",
       "<table border=\"1\" class=\"dataframe\">\n",
       "  <thead>\n",
       "    <tr style=\"text-align: right;\">\n",
       "      <th></th>\n",
       "      <th>prob</th>\n",
       "      <th>close_rise</th>\n",
       "      <th>true_prob</th>\n",
       "    </tr>\n",
       "  </thead>\n",
       "  <tbody>\n",
       "    <tr>\n",
       "      <th>0</th>\n",
       "      <td>0.2</td>\n",
       "      <td>7</td>\n",
       "      <td>0.428571</td>\n",
       "    </tr>\n",
       "    <tr>\n",
       "      <th>1</th>\n",
       "      <td>0.3</td>\n",
       "      <td>22</td>\n",
       "      <td>0.590909</td>\n",
       "    </tr>\n",
       "    <tr>\n",
       "      <th>2</th>\n",
       "      <td>0.4</td>\n",
       "      <td>116</td>\n",
       "      <td>0.491379</td>\n",
       "    </tr>\n",
       "    <tr>\n",
       "      <th>3</th>\n",
       "      <td>0.5</td>\n",
       "      <td>240</td>\n",
       "      <td>0.558333</td>\n",
       "    </tr>\n",
       "    <tr>\n",
       "      <th>4</th>\n",
       "      <td>0.6</td>\n",
       "      <td>202</td>\n",
       "      <td>0.569307</td>\n",
       "    </tr>\n",
       "    <tr>\n",
       "      <th>5</th>\n",
       "      <td>0.7</td>\n",
       "      <td>150</td>\n",
       "      <td>0.626667</td>\n",
       "    </tr>\n",
       "    <tr>\n",
       "      <th>6</th>\n",
       "      <td>0.8</td>\n",
       "      <td>101</td>\n",
       "      <td>0.702970</td>\n",
       "    </tr>\n",
       "    <tr>\n",
       "      <th>7</th>\n",
       "      <td>0.9</td>\n",
       "      <td>42</td>\n",
       "      <td>0.761905</td>\n",
       "    </tr>\n",
       "    <tr>\n",
       "      <th>8</th>\n",
       "      <td>1.0</td>\n",
       "      <td>1</td>\n",
       "      <td>1.000000</td>\n",
       "    </tr>\n",
       "  </tbody>\n",
       "</table>\n",
       "</div>"
      ],
      "text/plain": [
       "   prob  close_rise  true_prob\n",
       "0   0.2           7   0.428571\n",
       "1   0.3          22   0.590909\n",
       "2   0.4         116   0.491379\n",
       "3   0.5         240   0.558333\n",
       "4   0.6         202   0.569307\n",
       "5   0.7         150   0.626667\n",
       "6   0.8         101   0.702970\n",
       "7   0.9          42   0.761905\n",
       "8   1.0           1   1.000000"
      ]
     },
     "execution_count": 39,
     "metadata": {},
     "output_type": "execute_result"
    }
   ],
   "source": [
    "# 预测新股上涨的概率值\n",
    "from sklearn.model_selection import KFold\n",
    "kf = KFold(n_splits=5, random_state = 0)\n",
    "y_prob = np.zeros(len(y))  # 初始化预测概率值数组\n",
    "# 预测概率值\n",
    "for train_index, test_index in kf.split(x):\n",
    "    x_train = x.iloc[train_index]\n",
    "    x_test = x.iloc[test_index]\n",
    "    y_train = y.iloc[train_index]\n",
    "#     clf = RF(max_depth=4, n_estimators=150,bootstrap=True, max_features=0.3, random_state=5)\n",
    "    clf = RF(max_depth=8, n_estimators=40,bootstrap=False, max_features=0.3, random_state=5)\n",
    "    clf.fit(x_train,y_train)\n",
    "    y_prob[test_index] = clf.predict_proba(x_test)[:,1]\n",
    "prob = np.round(y_prob, 1)   # 对预测出的概率值保留一位小数，便于分组观察\n",
    "\n",
    "# # 合并预测值和真实值\n",
    "probDf = pd.DataFrame(prob)\n",
    "churnDf = pd.DataFrame(y)\n",
    "df1 = pd.concat([probDf.reset_index(drop=True), churnDf.reset_index(drop=True)], axis=1)\n",
    "df1.columns = ['prob', 'close_rise']\n",
    "\n",
    "# 分组计算每种预测概率值所对应的真实上涨概率\n",
    "group = df1.groupby('prob')\n",
    "df2 = pd.concat([group.count(), group.sum()/group.count()], axis=1).reset_index()\n",
    "df2.columns = ['prob', 'close_rise', 'true_prob']\n",
    "df2"
   ]
  },
  {
   "cell_type": "markdown",
   "metadata": {},
   "source": [
    "由表可知：随着预测上涨概率增加，其真实上涨概率虽然上下波动，但趋势上还是有所增加的。\n",
    "\n",
    "根据个人风险偏好，可以根据各预测概率值分组的真实上涨概率设定阈值进行决策。例如，设置阈值为true_prob = 0.7，即优先关注真正上涨概率为70%以上的股票，也就表示可以对预测结果中大于等于0.8的股票进行参与。"
   ]
  },
  {
   "cell_type": "markdown",
   "metadata": {},
   "source": [
    "# 6.公布中签后涨跌预测"
   ]
  },
  {
   "cell_type": "markdown",
   "metadata": {},
   "source": [
    "一般港交所会在上市前一天早上披露分配书，透过分配书，我们能获取到data的完整数据。\n",
    "\n",
    "此刻可用相对完整的数据对新股涨跌再次预测，以应对下午的暗盘和第二天的上市。\n",
    "\n",
    "接下来的步骤和招股期间的涨跌预测除了数据源不一样，其它基本一致。"
   ]
  },
  {
   "cell_type": "markdown",
   "metadata": {},
   "source": [
    "## 6.1 交叉验证"
   ]
  },
  {
   "cell_type": "markdown",
   "metadata": {},
   "source": [
    "同样考虑到样本数较少的问题，本案例采用K折交叉验证的方式进行预测，提高数据利用率；此外，采用逻辑回归、SVM、随机森林、AdaBoost等算法构建模型，从中选择预测效果较好的模型进行最终的预测。\n",
    "\n",
    "在新股涨跌预测中，很明显，更应该关注的指标为查准率，即每一个类别中，预测正确的样本数比上预测出来的样本数。\n",
    "\n",
    "比如：模型预测了10只股票会涨，而真实上涨的有7只，代表查准率为70%。很明显，查准率越高，代表着新股获利的概率越高。所以它是整个新股涨跌预测中最重要的指标。"
   ]
  },
  {
   "cell_type": "code",
   "execution_count": 42,
   "metadata": {},
   "outputs": [],
   "source": [
    "import sklearn.model_selection as ms\n",
    "import sklearn.ensemble as se\n",
    "import sklearn.metrics as sm\n",
    "\n",
    "from sklearn.linear_model import LogisticRegression as LR    # 逻辑回归\n",
    "from sklearn.svm import SVC    # SVM\n",
    "from sklearn.ensemble import RandomForestClassifier as RF    # 随机森林\n",
    "from sklearn.ensemble import AdaBoostClassifier as Adaboost    # AdaBoost\n",
    "\n",
    "### 整理数据集\n",
    "x = data.drop('close_rise',1)\n",
    "y = data['close_rise']\n",
    "#数据集划分\n",
    "train_x, test_x, train_y, test_y = ms.train_test_split(\n",
    "        x, y, test_size=0.2, random_state=0)\n",
    "# 交叉验证\n",
    "model_list = [LR, SVC, RF, Adaboost]\n",
    "pred_list = []\n",
    "for m in model_list:\n",
    "    # 获取预测结果\n",
    "    pred = ms.cross_val_predict(m(), train_x, train_y, cv=5)\n",
    "    pred_list.append(pred)"
   ]
  },
  {
   "cell_type": "markdown",
   "metadata": {},
   "source": [
    "### 交叉验证各指标得分"
   ]
  },
  {
   "cell_type": "code",
   "execution_count": 43,
   "metadata": {},
   "outputs": [
    {
     "data": {
      "text/html": [
       "<div>\n",
       "<style scoped>\n",
       "    .dataframe tbody tr th:only-of-type {\n",
       "        vertical-align: middle;\n",
       "    }\n",
       "\n",
       "    .dataframe tbody tr th {\n",
       "        vertical-align: top;\n",
       "    }\n",
       "\n",
       "    .dataframe thead th {\n",
       "        text-align: right;\n",
       "    }\n",
       "</style>\n",
       "<table border=\"1\" class=\"dataframe\">\n",
       "  <thead>\n",
       "    <tr style=\"text-align: right;\">\n",
       "      <th></th>\n",
       "      <th>LR</th>\n",
       "      <th>SVC</th>\n",
       "      <th>RandomForest</th>\n",
       "      <th>AdaBoost</th>\n",
       "    </tr>\n",
       "  </thead>\n",
       "  <tbody>\n",
       "    <tr>\n",
       "      <th>Recall</th>\n",
       "      <td>0.875000</td>\n",
       "      <td>0.820755</td>\n",
       "      <td>0.632075</td>\n",
       "      <td>0.738208</td>\n",
       "    </tr>\n",
       "    <tr>\n",
       "      <th>Precision</th>\n",
       "      <td>0.622483</td>\n",
       "      <td>0.617021</td>\n",
       "      <td>0.647343</td>\n",
       "      <td>0.632323</td>\n",
       "    </tr>\n",
       "    <tr>\n",
       "      <th>F1-score</th>\n",
       "      <td>0.727451</td>\n",
       "      <td>0.704453</td>\n",
       "      <td>0.639618</td>\n",
       "      <td>0.681175</td>\n",
       "    </tr>\n",
       "  </tbody>\n",
       "</table>\n",
       "</div>"
      ],
      "text/plain": [
       "                 LR       SVC  RandomForest  AdaBoost\n",
       "Recall     0.875000  0.820755      0.632075  0.738208\n",
       "Precision  0.622483  0.617021      0.647343  0.632323\n",
       "F1-score   0.727451  0.704453      0.639618  0.681175"
      ]
     },
     "execution_count": 43,
     "metadata": {},
     "output_type": "execute_result"
    }
   ],
   "source": [
    "from sklearn.metrics import precision_score, recall_score, f1_score    # 导入精确率、召回率、F1值等评价指标\n",
    "\n",
    "scoreDf = pd.DataFrame(columns=['LR', 'SVC', 'RandomForest', 'AdaBoost'])\n",
    "for i in range(4):\n",
    "    r = recall_score(train_y, pred_list[i])\n",
    "    p = precision_score(train_y, pred_list[i])\n",
    "    f1 = f1_score(train_y, pred_list[i])\n",
    "    scoreDf.iloc[:, i] = pd.Series([r, p, f1])\n",
    "\n",
    "scoreDf.index = ['Recall', 'Precision', 'F1-score']\n",
    "scoreDf"
   ]
  },
  {
   "cell_type": "markdown",
   "metadata": {},
   "source": [
    "由上表可知，随机森林模型的查准率得分最高，可以用RandomForestClassifier单模型进行预测"
   ]
  },
  {
   "cell_type": "markdown",
   "metadata": {},
   "source": [
    "## 6.2 网格搜索"
   ]
  },
  {
   "cell_type": "code",
   "execution_count": 52,
   "metadata": {},
   "outputs": [
    {
     "data": {
      "text/plain": [
       "GridSearchCV(cv=5, error_score='raise',\n",
       "       estimator=RandomForestClassifier(bootstrap=True, class_weight=None, criterion='gini',\n",
       "            max_depth=None, max_features='auto', max_leaf_nodes=None,\n",
       "            min_impurity_decrease=0.0, min_impurity_split=None,\n",
       "            min_samples_leaf=1, min_samples_split=2,\n",
       "            min_weight_fraction_leaf=0.0, n_estimators=10, n_jobs=1,\n",
       "            oob_score=False, random_state=5, verbose=0, warm_start=False),\n",
       "       fit_params=None, iid=True, n_jobs=1,\n",
       "       param_grid={'n_estimators': array([ 10,  20,  30,  40,  50,  60,  70,  80,  90, 100, 110, 120, 130,\n",
       "       140, 150, 160, 170, 180, 190, 200]), 'max_features': array([0.1, 0.2, 0.3, 0.4, 0.5, 0.6, 0.7, 0.8, 0.9]), 'max_depth': array([ 3,  4,  5,  6,  7,  8,  9, 10]), 'bootstrap': [True, False]},\n",
       "       pre_dispatch='2*n_jobs', refit=True, return_train_score=True,\n",
       "       scoring=None, verbose=0)"
      ]
     },
     "execution_count": 52,
     "metadata": {},
     "output_type": "execute_result"
    }
   ],
   "source": [
    "from sklearn.model_selection import GridSearchCV\n",
    "clf = RF(random_state=5)\n",
    "# 超参数字典\n",
    "param_grid = {\n",
    "    'n_estimators':np.arange(10,201,10),\n",
    "    'max_features':np.arange(0.1,1,0.1),\n",
    "    'max_depth':np.arange(3,11,1),\n",
    "    'bootstrap':[True, False],\n",
    "}\n",
    "# 网格搜索\n",
    "grid2 = GridSearchCV(clf, param_grid = param_grid, cv = 5)\n",
    "grid2.fit(train_x, train_y)"
   ]
  },
  {
   "cell_type": "code",
   "execution_count": 53,
   "metadata": {},
   "outputs": [
    {
     "name": "stdout",
     "output_type": "stream",
     "text": [
      "{'bootstrap': False, 'max_depth': 5, 'max_features': 0.30000000000000004, 'n_estimators': 170}\n",
      "0.6519886363636364\n",
      "1856\n"
     ]
    }
   ],
   "source": [
    "# 获取最优参数、最优得分\n",
    "print(grid2.best_params_)\n",
    "print(grid2.best_score_)\n",
    "print(grid2.best_index_)"
   ]
  },
  {
   "cell_type": "markdown",
   "metadata": {},
   "source": [
    "## 6.3 模型评估"
   ]
  },
  {
   "cell_type": "code",
   "execution_count": 62,
   "metadata": {},
   "outputs": [
    {
     "name": "stdout",
     "output_type": "stream",
     "text": [
      "[[28 53]\n",
      " [24 72]]\n",
      "             precision    recall  f1-score   support\n",
      "\n",
      "        0.0       0.54      0.35      0.42        81\n",
      "        1.0       0.58      0.75      0.65        96\n",
      "\n",
      "avg / total       0.56      0.56      0.55       177\n",
      "\n"
     ]
    }
   ],
   "source": [
    "### 获取测试集各指标得分\n",
    "model = RF(max_depth=5, n_estimators=170,bootstrap=False, max_features=0.3 , random_state=5)\n",
    "model.fit(train_x, train_y)\n",
    "pred_test_y = model.predict(test_x)\n",
    "\n",
    "# 混淆矩阵、分类报告\n",
    "print(sm.confusion_matrix(test_y, pred_test_y))\n",
    "print(sm.classification_report(test_y, pred_test_y))"
   ]
  },
  {
   "cell_type": "code",
   "execution_count": 63,
   "metadata": {},
   "outputs": [
    {
     "data": {
      "image/png": "[encoded data removed]",
      "text/plain": [
       "<matplotlib.figure.Figure at 0x7fa8e8385048>"
      ]
     },
     "metadata": {},
     "output_type": "display_data"
    },
    {
     "data": {
      "text/html": [
       "<div>\n",
       "<style scoped>\n",
       "    .dataframe tbody tr th:only-of-type {\n",
       "        vertical-align: middle;\n",
       "    }\n",
       "\n",
       "    .dataframe tbody tr th {\n",
       "        vertical-align: top;\n",
       "    }\n",
       "\n",
       "    .dataframe thead th {\n",
       "        text-align: right;\n",
       "    }\n",
       "</style>\n",
       "<table border=\"1\" class=\"dataframe\">\n",
       "  <thead>\n",
       "    <tr style=\"text-align: right;\">\n",
       "      <th></th>\n",
       "      <th>importance</th>\n",
       "    </tr>\n",
       "  </thead>\n",
       "  <tbody>\n",
       "    <tr>\n",
       "      <th>greenshoe</th>\n",
       "      <td>0.009948</td>\n",
       "    </tr>\n",
       "    <tr>\n",
       "      <th>plate</th>\n",
       "      <td>0.023993</td>\n",
       "    </tr>\n",
       "    <tr>\n",
       "      <th>old_stock</th>\n",
       "      <td>0.029316</td>\n",
       "    </tr>\n",
       "    <tr>\n",
       "      <th>pricing_type</th>\n",
       "      <td>0.058074</td>\n",
       "    </tr>\n",
       "    <tr>\n",
       "      <th>ipo_sponsor</th>\n",
       "      <td>0.078290</td>\n",
       "    </tr>\n",
       "    <tr>\n",
       "      <th>market</th>\n",
       "      <td>0.090946</td>\n",
       "    </tr>\n",
       "    <tr>\n",
       "      <th>one_prob</th>\n",
       "      <td>0.095713</td>\n",
       "    </tr>\n",
       "    <tr>\n",
       "      <th>one_price</th>\n",
       "      <td>0.113558</td>\n",
       "    </tr>\n",
       "    <tr>\n",
       "      <th>circulate_value</th>\n",
       "      <td>0.206140</td>\n",
       "    </tr>\n",
       "    <tr>\n",
       "      <th>over_multiple</th>\n",
       "      <td>0.294022</td>\n",
       "    </tr>\n",
       "  </tbody>\n",
       "</table>\n",
       "</div>"
      ],
      "text/plain": [
       "                 importance\n",
       "greenshoe          0.009948\n",
       "plate              0.023993\n",
       "old_stock          0.029316\n",
       "pricing_type       0.058074\n",
       "ipo_sponsor        0.078290\n",
       "market             0.090946\n",
       "one_prob           0.095713\n",
       "one_price          0.113558\n",
       "circulate_value    0.206140\n",
       "over_multiple      0.294022"
      ]
     },
     "execution_count": 63,
     "metadata": {},
     "output_type": "execute_result"
    }
   ],
   "source": [
    "### 特征重要性\n",
    "feature_importances = pd.DataFrame(model.feature_importances_,\n",
    "                                  index = data.columns.drop(['close_rise']),\n",
    "                                  columns = ['importance']).sort_values('importance')\n",
    "# 可视化\n",
    "feature_importances.plot(figsize=(10,5))\n",
    "plt.show()\n",
    "feature_importances"
   ]
  },
  {
   "cell_type": "markdown",
   "metadata": {},
   "source": [
    "## 6.4 结合预测概率值"
   ]
  },
  {
   "cell_type": "markdown",
   "metadata": {},
   "source": [
    "模型对于涨跌预测的效果一般，所以结合预测的概率值来筛选胜率更大大的新股"
   ]
  },
  {
   "cell_type": "code",
   "execution_count": 64,
   "metadata": {},
   "outputs": [
    {
     "data": {
      "text/html": [
       "<div>\n",
       "<style scoped>\n",
       "    .dataframe tbody tr th:only-of-type {\n",
       "        vertical-align: middle;\n",
       "    }\n",
       "\n",
       "    .dataframe tbody tr th {\n",
       "        vertical-align: top;\n",
       "    }\n",
       "\n",
       "    .dataframe thead th {\n",
       "        text-align: right;\n",
       "    }\n",
       "</style>\n",
       "<table border=\"1\" class=\"dataframe\">\n",
       "  <thead>\n",
       "    <tr style=\"text-align: right;\">\n",
       "      <th></th>\n",
       "      <th>prob</th>\n",
       "      <th>close_rise</th>\n",
       "      <th>true_prob</th>\n",
       "    </tr>\n",
       "  </thead>\n",
       "  <tbody>\n",
       "    <tr>\n",
       "      <th>0</th>\n",
       "      <td>0.3</td>\n",
       "      <td>6</td>\n",
       "      <td>0.500000</td>\n",
       "    </tr>\n",
       "    <tr>\n",
       "      <th>1</th>\n",
       "      <td>0.4</td>\n",
       "      <td>125</td>\n",
       "      <td>0.496000</td>\n",
       "    </tr>\n",
       "    <tr>\n",
       "      <th>2</th>\n",
       "      <td>0.5</td>\n",
       "      <td>233</td>\n",
       "      <td>0.480687</td>\n",
       "    </tr>\n",
       "    <tr>\n",
       "      <th>3</th>\n",
       "      <td>0.6</td>\n",
       "      <td>223</td>\n",
       "      <td>0.609865</td>\n",
       "    </tr>\n",
       "    <tr>\n",
       "      <th>4</th>\n",
       "      <td>0.7</td>\n",
       "      <td>199</td>\n",
       "      <td>0.678392</td>\n",
       "    </tr>\n",
       "    <tr>\n",
       "      <th>5</th>\n",
       "      <td>0.8</td>\n",
       "      <td>69</td>\n",
       "      <td>0.739130</td>\n",
       "    </tr>\n",
       "    <tr>\n",
       "      <th>6</th>\n",
       "      <td>0.9</td>\n",
       "      <td>26</td>\n",
       "      <td>0.807692</td>\n",
       "    </tr>\n",
       "  </tbody>\n",
       "</table>\n",
       "</div>"
      ],
      "text/plain": [
       "   prob  close_rise  true_prob\n",
       "0   0.3           6   0.500000\n",
       "1   0.4         125   0.496000\n",
       "2   0.5         233   0.480687\n",
       "3   0.6         223   0.609865\n",
       "4   0.7         199   0.678392\n",
       "5   0.8          69   0.739130\n",
       "6   0.9          26   0.807692"
      ]
     },
     "execution_count": 64,
     "metadata": {},
     "output_type": "execute_result"
    }
   ],
   "source": [
    "# 预测新股上涨的概率值\n",
    "from sklearn.model_selection import KFold\n",
    "kf = KFold(n_splits=5, random_state = 0)\n",
    "y_prob = np.zeros(len(y))  # 初始化预测概率值数组\n",
    "# 预测概率值\n",
    "for train_index, test_index in kf.split(x):\n",
    "    x_train = x.iloc[train_index]\n",
    "    x_test = x.iloc[test_index]\n",
    "    y_train = y.iloc[train_index]\n",
    "    clf = RF(max_depth=5, n_estimators=170,bootstrap=False, max_features=0.3 , random_state=5)\n",
    "\n",
    "    clf.fit(x_train,y_train)\n",
    "    y_prob[test_index] = clf.predict_proba(x_test)[:,1]\n",
    "prob = np.round(y_prob, 1)   # 对预测出的概率值保留一位小数，便于分组观察\n",
    "\n",
    "# # 合并预测值和真实值\n",
    "probDf = pd.DataFrame(prob)\n",
    "churnDf = pd.DataFrame(y)\n",
    "df3 = pd.concat([probDf.reset_index(drop=True), churnDf.reset_index(drop=True)], axis=1)\n",
    "df3.columns = ['prob', 'close_rise']\n",
    "df3.head()\n",
    "\n",
    "# 分组计算每种预测概率值所对应的真实上涨概率\n",
    "group = df3.groupby('prob')\n",
    "df4 = pd.concat([group.count(), group.sum()/group.count()], axis=1).reset_index()\n",
    "df4.columns = ['prob', 'close_rise', 'true_prob']\n",
    "df4"
   ]
  },
  {
   "cell_type": "markdown",
   "metadata": {},
   "source": [
    "由表可知：随着预测上涨概率增加，其真实上涨概率虽然上下波动，但趋势上还是有所增加的。\n",
    "\n",
    "根据个人风险偏好，可以根据各预测概率值分组的真实上涨概率设定阈值进行决策。\n",
    "\n",
    "例如，假设阈值为true_prob = 0.5，即优先关注真正上涨概率为50%以下的股票，也就表示对预测结果中小于0.6的股票，在暗盘时要小心它们破发，及时止损。"
   ]
  },
  {
   "cell_type": "markdown",
   "metadata": {},
   "source": [
    "# 7.总结"
   ]
  },
  {
   "cell_type": "markdown",
   "metadata": {},
   "source": [
    "模型对于涨跌预测效果不佳，这个在预料之中，毕竟资本市场最为扑朔迷离。\n",
    "\n",
    "一般新股上市的表现，受两大因素影响。其一是基本面，其二是情绪面。并且情绪面较于基本面，对股价的拉扯更为有力。\n",
    "\n",
    "市场情绪好比女人的脸，说翻就翻，极难把控。\n",
    "\n",
    "而基本面，远不是我们本次使用data数据中的各项特征可以穷尽的。国配热度、基石投资占比、阵容、估值高低、盈利能力、增长……这些都是基本面中较为重要的角色，并且是data中所缺失的。\n",
    "\n",
    "所以只用基本面的一部分作为依据去做涨跌预测，其效果必然受限。\n",
    "\n",
    "饶是如此，通过对上涨概率预测，也提高了不小的胜率。"
   ]
  },
  {
   "cell_type": "code",
   "execution_count": 65,
   "metadata": {},
   "outputs": [
    {
     "data": {
      "text/html": [
       "<div>\n",
       "<style scoped>\n",
       "    .dataframe tbody tr th:only-of-type {\n",
       "        vertical-align: middle;\n",
       "    }\n",
       "\n",
       "    .dataframe tbody tr th {\n",
       "        vertical-align: top;\n",
       "    }\n",
       "\n",
       "    .dataframe thead th {\n",
       "        text-align: right;\n",
       "    }\n",
       "</style>\n",
       "<table border=\"1\" class=\"dataframe\">\n",
       "  <thead>\n",
       "    <tr style=\"text-align: right;\">\n",
       "      <th></th>\n",
       "      <th>prob</th>\n",
       "      <th>close_rise</th>\n",
       "      <th>true_prob</th>\n",
       "    </tr>\n",
       "  </thead>\n",
       "  <tbody>\n",
       "    <tr>\n",
       "      <th>0</th>\n",
       "      <td>0.2</td>\n",
       "      <td>7</td>\n",
       "      <td>0.428571</td>\n",
       "    </tr>\n",
       "    <tr>\n",
       "      <th>1</th>\n",
       "      <td>0.3</td>\n",
       "      <td>22</td>\n",
       "      <td>0.590909</td>\n",
       "    </tr>\n",
       "    <tr>\n",
       "      <th>2</th>\n",
       "      <td>0.4</td>\n",
       "      <td>116</td>\n",
       "      <td>0.491379</td>\n",
       "    </tr>\n",
       "    <tr>\n",
       "      <th>3</th>\n",
       "      <td>0.5</td>\n",
       "      <td>240</td>\n",
       "      <td>0.558333</td>\n",
       "    </tr>\n",
       "    <tr>\n",
       "      <th>4</th>\n",
       "      <td>0.6</td>\n",
       "      <td>202</td>\n",
       "      <td>0.569307</td>\n",
       "    </tr>\n",
       "    <tr>\n",
       "      <th>5</th>\n",
       "      <td>0.7</td>\n",
       "      <td>150</td>\n",
       "      <td>0.626667</td>\n",
       "    </tr>\n",
       "    <tr>\n",
       "      <th>6</th>\n",
       "      <td>0.8</td>\n",
       "      <td>101</td>\n",
       "      <td>0.702970</td>\n",
       "    </tr>\n",
       "    <tr>\n",
       "      <th>7</th>\n",
       "      <td>0.9</td>\n",
       "      <td>42</td>\n",
       "      <td>0.761905</td>\n",
       "    </tr>\n",
       "    <tr>\n",
       "      <th>8</th>\n",
       "      <td>1.0</td>\n",
       "      <td>1</td>\n",
       "      <td>1.000000</td>\n",
       "    </tr>\n",
       "  </tbody>\n",
       "</table>\n",
       "</div>"
      ],
      "text/plain": [
       "   prob  close_rise  true_prob\n",
       "0   0.2           7   0.428571\n",
       "1   0.3          22   0.590909\n",
       "2   0.4         116   0.491379\n",
       "3   0.5         240   0.558333\n",
       "4   0.6         202   0.569307\n",
       "5   0.7         150   0.626667\n",
       "6   0.8         101   0.702970\n",
       "7   0.9          42   0.761905\n",
       "8   1.0           1   1.000000"
      ]
     },
     "execution_count": 65,
     "metadata": {},
     "output_type": "execute_result"
    }
   ],
   "source": [
    "# 招股期内预测上涨概率对应的真实上涨概率\n",
    "df2"
   ]
  },
  {
   "cell_type": "markdown",
   "metadata": {},
   "source": [
    "观察上表，如果挑选预测概率大于等于0.8的参与，其真实上涨概率也超过了70%。从量化交易的角度来看，70%的胜率相当不错了。并且在881支股票中，预测值大于等于0.8的一共有144支股票，参与机会也不算少。"
   ]
  },
  {
   "cell_type": "code",
   "execution_count": 68,
   "metadata": {},
   "outputs": [
    {
     "data": {
      "text/html": [
       "<div>\n",
       "<style scoped>\n",
       "    .dataframe tbody tr th:only-of-type {\n",
       "        vertical-align: middle;\n",
       "    }\n",
       "\n",
       "    .dataframe tbody tr th {\n",
       "        vertical-align: top;\n",
       "    }\n",
       "\n",
       "    .dataframe thead th {\n",
       "        text-align: right;\n",
       "    }\n",
       "</style>\n",
       "<table border=\"1\" class=\"dataframe\">\n",
       "  <thead>\n",
       "    <tr style=\"text-align: right;\">\n",
       "      <th></th>\n",
       "      <th>prob</th>\n",
       "      <th>close_rise</th>\n",
       "      <th>true_prob</th>\n",
       "    </tr>\n",
       "  </thead>\n",
       "  <tbody>\n",
       "    <tr>\n",
       "      <th>0</th>\n",
       "      <td>0.3</td>\n",
       "      <td>6</td>\n",
       "      <td>0.500000</td>\n",
       "    </tr>\n",
       "    <tr>\n",
       "      <th>1</th>\n",
       "      <td>0.4</td>\n",
       "      <td>125</td>\n",
       "      <td>0.496000</td>\n",
       "    </tr>\n",
       "    <tr>\n",
       "      <th>2</th>\n",
       "      <td>0.5</td>\n",
       "      <td>233</td>\n",
       "      <td>0.480687</td>\n",
       "    </tr>\n",
       "    <tr>\n",
       "      <th>3</th>\n",
       "      <td>0.6</td>\n",
       "      <td>223</td>\n",
       "      <td>0.609865</td>\n",
       "    </tr>\n",
       "    <tr>\n",
       "      <th>4</th>\n",
       "      <td>0.7</td>\n",
       "      <td>199</td>\n",
       "      <td>0.678392</td>\n",
       "    </tr>\n",
       "    <tr>\n",
       "      <th>5</th>\n",
       "      <td>0.8</td>\n",
       "      <td>69</td>\n",
       "      <td>0.739130</td>\n",
       "    </tr>\n",
       "    <tr>\n",
       "      <th>6</th>\n",
       "      <td>0.9</td>\n",
       "      <td>26</td>\n",
       "      <td>0.807692</td>\n",
       "    </tr>\n",
       "  </tbody>\n",
       "</table>\n",
       "</div>"
      ],
      "text/plain": [
       "   prob  close_rise  true_prob\n",
       "0   0.3           6   0.500000\n",
       "1   0.4         125   0.496000\n",
       "2   0.5         233   0.480687\n",
       "3   0.6         223   0.609865\n",
       "4   0.7         199   0.678392\n",
       "5   0.8          69   0.739130\n",
       "6   0.9          26   0.807692"
      ]
     },
     "execution_count": 68,
     "metadata": {},
     "output_type": "execute_result"
    }
   ],
   "source": [
    "# 公布中签后预测上涨概率对应的真实上涨概率\n",
    "df4"
   ]
  },
  {
   "cell_type": "markdown",
   "metadata": {},
   "source": [
    "观察上表，根据个人风险便好可制定相应策略。\n",
    "\n",
    "比如预测上涨概率小于0.6，那么它的真实上涨概率基本上在50%以下，这些股票需要格外小心，情况不对就要及时止损。\n",
    "\n",
    "而如果预测上涨概率大于等于0.8，其真实上涨概率超过73.9%。如果其股价有贴近发行价的机会，胆大的甚至可以吸筹，待机会高抛。"
   ]
  },
  {
   "cell_type": "markdown",
   "metadata": {},
   "source": [
    "** 总体来看，模型对于上涨概率的预测已经取得效果，具备了一定的参考价值！**"
   ]
  }
 ],
 "metadata": {
  "kernelspec": {
   "display_name": "Python [default]",
   "language": "python",
   "name": "python3"
  },
  "language_info": {
   "codemirror_mode": {
    "name": "ipython",
    "version": 3
   },
   "file_extension": ".py",
   "mimetype": "text/x-python",
   "name": "python",
   "nbconvert_exporter": "python",
   "pygments_lexer": "ipython3",
   "version": "3.6.2"
  }
 },
 "nbformat": 4,
 "nbformat_minor": 2
}
